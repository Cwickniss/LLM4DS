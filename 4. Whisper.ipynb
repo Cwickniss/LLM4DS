{
 "cells": [
  {
   "cell_type": "markdown",
   "id": "4ca890a2",
   "metadata": {},
   "source": [
    "<div style=\"width: 100%; overflow: hidden;\">\n",
    "    <div style=\"width: 150px; float: left;\"> <img src=\"data/D4Sci_logo_ball.png\" alt=\"Data For Science, Inc\" align=\"left\" border=\"0\" width=150px> </div>\n",
    "    <div style=\"float: left; margin-left: 10px;\"> <h1>LLMs for Data Science</h1>\n",
    "    <h1>Text to Speech with OpenAI</h1>\n",
    "        <p>Bruno Gonçalves<br/>\n",
    "        <a href=\"http://www.data4sci.com/\">www.data4sci.com</a><br/>\n",
    "            @bgoncalves, @data4sci</p></div>\n",
    "</div>"
   ]
  },
  {
   "cell_type": "code",
   "execution_count": 1,
   "id": "fd85d18b",
   "metadata": {},
   "outputs": [],
   "source": [
    "from collections import Counter, defaultdict\n",
    "import random\n",
    "\n",
    "import pandas as pd\n",
    "import numpy as np\n",
    "\n",
    "import matplotlib\n",
    "import matplotlib.pyplot as plt \n",
    "\n",
    "import openai\n",
    "from openai import OpenAI\n",
    "\n",
    "import tqdm as tq\n",
    "from tqdm.notebook import tqdm\n",
    "\n",
    "import watermark\n",
    "\n",
    "%load_ext watermark\n",
    "%matplotlib inline"
   ]
  },
  {
   "cell_type": "markdown",
   "id": "62e99b79",
   "metadata": {},
   "source": [
    "We start by printing out the versions of the libraries we're using for future reference"
   ]
  },
  {
   "cell_type": "code",
   "execution_count": 2,
   "id": "7b4d6520",
   "metadata": {},
   "outputs": [
    {
     "name": "stdout",
     "output_type": "stream",
     "text": [
      "Python implementation: CPython\n",
      "Python version       : 3.11.7\n",
      "IPython version      : 8.12.3\n",
      "\n",
      "Compiler    : Clang 14.0.6 \n",
      "OS          : Darwin\n",
      "Release     : 24.3.0\n",
      "Machine     : arm64\n",
      "Processor   : arm\n",
      "CPU cores   : 16\n",
      "Architecture: 64bit\n",
      "\n",
      "Git hash: 03802c3bf87993c3670c2fd8bf86e59d3d60bdfd\n",
      "\n",
      "matplotlib: 3.8.0\n",
      "watermark : 2.4.3\n",
      "pandas    : 2.2.3\n",
      "json      : 2.0.9\n",
      "openai    : 1.30.5\n",
      "numpy     : 1.26.4\n",
      "tqdm      : 4.66.4\n",
      "\n"
     ]
    }
   ],
   "source": [
    "%watermark -n -v -m -g -iv"
   ]
  },
  {
   "cell_type": "markdown",
   "id": "13ae3a5c",
   "metadata": {},
   "source": [
    "Load default figure style"
   ]
  },
  {
   "cell_type": "code",
   "execution_count": 3,
   "id": "811ff9e3",
   "metadata": {},
   "outputs": [],
   "source": [
    "plt.style.use('d4sci.mplstyle')\n",
    "colors = plt.rcParams['axes.prop_cycle'].by_key()['color']"
   ]
  },
  {
   "cell_type": "markdown",
   "id": "f9960820",
   "metadata": {},
   "source": [
    "# Audio to Text"
   ]
  },
  {
   "cell_type": "code",
   "execution_count": 4,
   "id": "f00c7c7a",
   "metadata": {},
   "outputs": [],
   "source": [
    "client = OpenAI()"
   ]
  },
  {
   "cell_type": "markdown",
   "id": "e15f1156",
   "metadata": {},
   "source": [
    "Let us parse a small local file"
   ]
  },
  {
   "cell_type": "code",
   "execution_count": 8,
   "id": "ea9e8e94",
   "metadata": {},
   "outputs": [],
   "source": [
    "!open data/gettysburg10.wav"
   ]
  },
  {
   "cell_type": "code",
   "execution_count": 6,
   "id": "a23066b6",
   "metadata": {},
   "outputs": [],
   "source": [
    "transcript = client.audio.transcriptions.create(\n",
    "    file = open(\"data/gettysburg10.wav\", \"rb\"),\n",
    "    model = \"whisper-1\",\n",
    "    response_format=\"text\",\n",
    "    language=\"en\"\n",
    ")"
   ]
  },
  {
   "cell_type": "markdown",
   "id": "bd2d2a31",
   "metadata": {},
   "source": [
    "And the transcript is simply:"
   ]
  },
  {
   "cell_type": "code",
   "execution_count": 7,
   "id": "73835706",
   "metadata": {},
   "outputs": [
    {
     "name": "stdout",
     "output_type": "stream",
     "text": [
      "Four score and seven years ago, our fathers brought forth on this continent a new nation, conceived in liberty and dedicated to the proposition that all men are created equal.\n",
      "\n"
     ]
    }
   ],
   "source": [
    "print(transcript)"
   ]
  },
  {
   "cell_type": "markdown",
   "id": "4405b5f8",
   "metadata": {},
   "source": [
    "We can also ask for SRT formatted output, that includes time indices"
   ]
  },
  {
   "cell_type": "code",
   "execution_count": 9,
   "id": "89213b6c",
   "metadata": {},
   "outputs": [
    {
     "name": "stdout",
     "output_type": "stream",
     "text": [
      "CPU times: user 9.76 ms, sys: 6.07 ms, total: 15.8 ms\n",
      "Wall time: 1.75 s\n"
     ]
    }
   ],
   "source": [
    "%%time\n",
    "transcript = client.audio.transcriptions.create(\n",
    "    file = open(\"data/gettysburg10.wav\", \"rb\"),\n",
    "    model = \"whisper-1\",\n",
    "    response_format=\"srt\",\n",
    "    language=\"en\"\n",
    ")"
   ]
  },
  {
   "cell_type": "code",
   "execution_count": 10,
   "id": "bb7ce224",
   "metadata": {},
   "outputs": [
    {
     "name": "stdout",
     "output_type": "stream",
     "text": [
      "1\n",
      "00:00:00,000 --> 00:00:05,660\n",
      "Four score and seven years ago, our fathers brought forth on this continent a new nation,\n",
      "\n",
      "2\n",
      "00:00:05,660 --> 00:00:09,880\n",
      "conceived in liberty and dedicated to the proposition that all men are created equal.\n",
      "\n",
      "\n",
      "\n"
     ]
    }
   ],
   "source": [
    "print(transcript)"
   ]
  },
  {
   "cell_type": "markdown",
   "id": "8b364858",
   "metadata": {},
   "source": [
    "And ask it to translate the text directly into Spanish"
   ]
  },
  {
   "cell_type": "code",
   "execution_count": 11,
   "id": "6bf62b58",
   "metadata": {},
   "outputs": [
    {
     "name": "stdout",
     "output_type": "stream",
     "text": [
      "CPU times: user 8.99 ms, sys: 4.28 ms, total: 13.3 ms\n",
      "Wall time: 6.84 s\n"
     ]
    }
   ],
   "source": [
    "%%time\n",
    "transcript = client.audio.transcriptions.create(\n",
    "    file = open(\"data/gettysburg10.wav\", \"rb\"),\n",
    "    model = \"whisper-1\",\n",
    "    response_format=\"text\",\n",
    "    language=\"es\"\n",
    ")"
   ]
  },
  {
   "cell_type": "code",
   "execution_count": 12,
   "id": "d379164c",
   "metadata": {},
   "outputs": [
    {
     "name": "stdout",
     "output_type": "stream",
     "text": [
      "Hace cuatro y siete años, nuestros padres trajeron a este continente una nueva nación concebida en libertad y dedicada a la proposición de que todos los hombres son creados iguales.\n",
      "\n"
     ]
    }
   ],
   "source": [
    "print(transcript)"
   ]
  },
  {
   "cell_type": "markdown",
   "id": "edf7a2c6",
   "metadata": {},
   "source": [
    "# Text to Speech"
   ]
  },
  {
   "cell_type": "markdown",
   "id": "2dcd1c57",
   "metadata": {},
   "source": [
    "Now the opposite approach, going from written text to high quality audio"
   ]
  },
  {
   "cell_type": "code",
   "execution_count": 13,
   "id": "739ca530",
   "metadata": {},
   "outputs": [],
   "source": [
    "quote = \"\"\"\n",
    "Scientists have calculated that the chances of something so patently absurd \n",
    "actually existing are millions to one.\n",
    "But magicians have calculated that million-to-one chances crop up nine times out of ten.\n",
    "\"\"\""
   ]
  },
  {
   "cell_type": "markdown",
   "id": "7c3a764a",
   "metadata": {},
   "source": [
    "You can learn more about text to speech (and sample the various voices) in the [Official documentation](https://platform.openai.com/docs/guides/text-to-speech/quickstart)"
   ]
  },
  {
   "cell_type": "code",
   "execution_count": 14,
   "id": "a47ef5f0",
   "metadata": {},
   "outputs": [
    {
     "name": "stdout",
     "output_type": "stream",
     "text": [
      "CPU times: user 69.8 ms, sys: 47.4 ms, total: 117 ms\n",
      "Wall time: 2.74 s\n"
     ]
    }
   ],
   "source": [
    "%%time\n",
    "audio = client.audio.speech.create(\n",
    "    input=quote, \n",
    "    model=\"tts-1\", \n",
    "    voice='fable',\n",
    "    response_format='mp3')"
   ]
  },
  {
   "cell_type": "markdown",
   "id": "44e2c4bc",
   "metadata": {},
   "source": [
    "Which we can write directly to a file"
   ]
  },
  {
   "cell_type": "code",
   "execution_count": 15,
   "id": "4bfa78eb",
   "metadata": {},
   "outputs": [],
   "source": [
    "audio.write_to_file('data/pratchett.mp3')"
   ]
  },
  {
   "cell_type": "code",
   "execution_count": 17,
   "id": "be0291f3",
   "metadata": {},
   "outputs": [],
   "source": [
    "!open data/pratchett.mp3"
   ]
  },
  {
   "cell_type": "markdown",
   "id": "a9c818dd",
   "metadata": {},
   "source": [
    "<center>\n",
    "     <img src=\"data/D4Sci_logo_full.png\" alt=\"Data For Science, Inc\" align=\"center\" border=\"0\" width=300px> \n",
    "</center>"
   ]
  }
 ],
 "metadata": {
  "kernelspec": {
   "display_name": "Python 3 (ipykernel)",
   "language": "python",
   "name": "python3"
  },
  "language_info": {
   "codemirror_mode": {
    "name": "ipython",
    "version": 3
   },
   "file_extension": ".py",
   "mimetype": "text/x-python",
   "name": "python",
   "nbconvert_exporter": "python",
   "pygments_lexer": "ipython3",
   "version": "3.11.7"
  },
  "varInspector": {
   "cols": {
    "lenName": 16,
    "lenType": 16,
    "lenVar": 40
   },
   "kernels_config": {
    "python": {
     "delete_cmd_postfix": "",
     "delete_cmd_prefix": "del ",
     "library": "var_list.py",
     "varRefreshCmd": "print(var_dic_list())"
    },
    "r": {
     "delete_cmd_postfix": ") ",
     "delete_cmd_prefix": "rm(",
     "library": "var_list.r",
     "varRefreshCmd": "cat(var_dic_list()) "
    }
   },
   "types_to_exclude": [
    "module",
    "function",
    "builtin_function_or_method",
    "instance",
    "_Feature"
   ],
   "window_display": false
  }
 },
 "nbformat": 4,
 "nbformat_minor": 5
}
