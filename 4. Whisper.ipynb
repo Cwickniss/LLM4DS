{
 "cells": [
  {
   "cell_type": "markdown",
   "id": "6fe6465b",
   "metadata": {},
   "source": [
    "<div style=\"width: 100%; overflow: hidden;\">\n",
    "    <div style=\"width: 150px; float: left;\"> <img src=\"data/D4Sci_logo_ball.png\" alt=\"Data For Science, Inc\" align=\"left\" border=\"0\" width=150px> </div>\n",
    "    <div style=\"float: left; margin-left: 10px;\"> <h1>LLMs for Data Science</h1>\n",
    "    <h1>Text to Speech with OpenAI</h1>\n",
    "        <p>Bruno Gonçalves<br/>\n",
    "        <a href=\"http://www.data4sci.com/\">www.data4sci.com</a><br/>\n",
    "            @bgoncalves, @data4sci</p></div>\n",
    "</div>"
   ]
  },
  {
   "cell_type": "code",
   "execution_count": 1,
   "id": "4f0f304b",
   "metadata": {},
   "outputs": [],
   "source": [
    "from collections import Counter, defaultdict\n",
    "import random\n",
    "\n",
    "import pandas as pd\n",
    "import numpy as np\n",
    "\n",
    "import matplotlib\n",
    "import matplotlib.pyplot as plt \n",
    "\n",
    "import openai\n",
    "from openai import OpenAI\n",
    "\n",
    "import tqdm as tq\n",
    "from tqdm.notebook import tqdm\n",
    "\n",
    "import watermark\n",
    "\n",
    "%load_ext watermark\n",
    "%matplotlib inline"
   ]
  },
  {
   "cell_type": "markdown",
   "id": "4ee8fc57",
   "metadata": {},
   "source": [
    "We start by printing out the versions of the libraries we're using for future reference"
   ]
  },
  {
   "cell_type": "code",
   "execution_count": 2,
   "id": "a38e03b5",
   "metadata": {},
   "outputs": [
    {
     "name": "stdout",
     "output_type": "stream",
     "text": [
      "Python implementation: CPython\n",
      "Python version       : 3.11.7\n",
      "IPython version      : 8.12.3\n",
      "\n",
      "Compiler    : Clang 14.0.6 \n",
      "OS          : Darwin\n",
      "Release     : 25.0.0\n",
      "Machine     : arm64\n",
      "Processor   : arm\n",
      "CPU cores   : 16\n",
      "Architecture: 64bit\n",
      "\n",
      "Git hash: ef16502ad70ed190dccb67646fe2df0a26fe0854\n",
      "\n",
      "numpy     : 1.26.4\n",
      "matplotlib: 3.8.0\n",
      "pandas    : 2.2.3\n",
      "openai    : 1.30.5\n",
      "watermark : 2.4.3\n",
      "tqdm      : 4.66.4\n",
      "\n"
     ]
    }
   ],
   "source": [
    "%watermark -n -v -m -g -iv"
   ]
  },
  {
   "cell_type": "markdown",
   "id": "73104b51",
   "metadata": {},
   "source": [
    "Load default figure style"
   ]
  },
  {
   "cell_type": "code",
   "execution_count": 3,
   "id": "4ce4a16f",
   "metadata": {},
   "outputs": [],
   "source": [
    "plt.style.use('d4sci.mplstyle')\n",
    "colors = plt.rcParams['axes.prop_cycle'].by_key()['color']"
   ]
  },
  {
   "cell_type": "markdown",
   "id": "b8dfdce8",
   "metadata": {},
   "source": [
    "# Audio to Text"
   ]
  },
  {
   "cell_type": "code",
   "execution_count": 4,
   "id": "e8a1140c",
   "metadata": {},
   "outputs": [],
   "source": [
    "client = OpenAI()"
   ]
  },
  {
   "cell_type": "markdown",
   "id": "5ec3086e",
   "metadata": {},
   "source": [
    "Let us parse a small local file"
   ]
  },
  {
   "cell_type": "code",
   "execution_count": 5,
   "id": "8b085b43",
   "metadata": {},
   "outputs": [],
   "source": [
    "!open data/gettysburg10.wav"
   ]
  },
  {
   "cell_type": "code",
   "execution_count": 6,
   "id": "a0095860",
   "metadata": {},
   "outputs": [],
   "source": [
    "transcript = client.audio.transcriptions.create(\n",
    "    file = open(\"data/gettysburg10.wav\", \"rb\"),\n",
    "    model = \"whisper-1\",\n",
    "    response_format=\"text\",\n",
    "    language=\"en\"\n",
    ")"
   ]
  },
  {
   "cell_type": "markdown",
   "id": "079c4327",
   "metadata": {},
   "source": [
    "And the transcript is simply:"
   ]
  },
  {
   "cell_type": "code",
   "execution_count": 7,
   "id": "f8289056",
   "metadata": {},
   "outputs": [
    {
     "name": "stdout",
     "output_type": "stream",
     "text": [
      "Four score and seven years ago, our fathers brought forth on this continent a new nation, conceived in liberty and dedicated to the proposition that all men are created equal.\n",
      "\n"
     ]
    }
   ],
   "source": [
    "print(transcript)"
   ]
  },
  {
   "cell_type": "markdown",
   "id": "9c1b5926",
   "metadata": {},
   "source": [
    "We can also ask for SRT formatted output, that includes time indices"
   ]
  },
  {
   "cell_type": "code",
   "execution_count": 8,
   "id": "c1415d8e",
   "metadata": {},
   "outputs": [
    {
     "name": "stdout",
     "output_type": "stream",
     "text": [
      "CPU times: user 2.33 ms, sys: 2.59 ms, total: 4.92 ms\n",
      "Wall time: 3.98 s\n"
     ]
    }
   ],
   "source": [
    "%%time\n",
    "transcript = client.audio.transcriptions.create(\n",
    "    file = open(\"data/gettysburg10.wav\", \"rb\"),\n",
    "    model = \"whisper-1\",\n",
    "    response_format=\"srt\",\n",
    "    language=\"en\"\n",
    ")"
   ]
  },
  {
   "cell_type": "code",
   "execution_count": 9,
   "id": "6eba04fe",
   "metadata": {},
   "outputs": [
    {
     "name": "stdout",
     "output_type": "stream",
     "text": [
      "1\n",
      "00:00:00,000 --> 00:00:05,660\n",
      "Four score and seven years ago, our fathers brought forth on this continent a new nation,\n",
      "\n",
      "2\n",
      "00:00:05,660 --> 00:00:09,880\n",
      "conceived in liberty and dedicated to the proposition that all men are created equal.\n",
      "\n",
      "\n",
      "\n"
     ]
    }
   ],
   "source": [
    "print(transcript)"
   ]
  },
  {
   "cell_type": "markdown",
   "id": "582ab770",
   "metadata": {},
   "source": [
    "And ask it to translate the text directly into Spanish"
   ]
  },
  {
   "cell_type": "code",
   "execution_count": 10,
   "id": "4d1380cd",
   "metadata": {},
   "outputs": [
    {
     "name": "stdout",
     "output_type": "stream",
     "text": [
      "CPU times: user 2.38 ms, sys: 2.21 ms, total: 4.58 ms\n",
      "Wall time: 1.24 s\n"
     ]
    }
   ],
   "source": [
    "%%time\n",
    "transcript = client.audio.transcriptions.create(\n",
    "    file = open(\"data/gettysburg10.wav\", \"rb\"),\n",
    "    model = \"whisper-1\",\n",
    "    response_format=\"text\",\n",
    "    language=\"es\"\n",
    ")"
   ]
  },
  {
   "cell_type": "code",
   "execution_count": 11,
   "id": "a74821a9",
   "metadata": {},
   "outputs": [
    {
     "name": "stdout",
     "output_type": "stream",
     "text": [
      "Hace cuatro y siete años, nuestros padres trajeron a este continente una nueva nación concebida en libertad y dedicada a la proposición de que todos los hombres son creados iguales.\n",
      "\n"
     ]
    }
   ],
   "source": [
    "print(transcript)"
   ]
  },
  {
   "cell_type": "markdown",
   "id": "4003ff20",
   "metadata": {},
   "source": [
    "# Text to Speech"
   ]
  },
  {
   "cell_type": "markdown",
   "id": "98c7b465",
   "metadata": {},
   "source": [
    "Now the opposite approach, going from written text to high quality audio"
   ]
  },
  {
   "cell_type": "code",
   "execution_count": 12,
   "id": "b8f13135",
   "metadata": {},
   "outputs": [],
   "source": [
    "quote = \"\"\"\n",
    "Scientists have calculated that the chances of something so patently absurd \n",
    "actually existing are millions to one.\n",
    "But magicians have calculated that million-to-one chances crop up nine times out of ten.\n",
    "\"\"\""
   ]
  },
  {
   "cell_type": "markdown",
   "id": "77beb519",
   "metadata": {},
   "source": [
    "You can learn more about text to speech (and sample the various voices) in the [Official documentation](https://platform.openai.com/docs/guides/text-to-speech/quickstart)"
   ]
  },
  {
   "cell_type": "code",
   "execution_count": 13,
   "id": "a0a7ed33",
   "metadata": {},
   "outputs": [
    {
     "name": "stdout",
     "output_type": "stream",
     "text": [
      "CPU times: user 17.6 ms, sys: 9.24 ms, total: 26.8 ms\n",
      "Wall time: 3.89 s\n"
     ]
    }
   ],
   "source": [
    "%%time\n",
    "audio = client.audio.speech.create(\n",
    "    input=quote, \n",
    "    model=\"tts-1\", \n",
    "    voice='fable',\n",
    "    response_format='mp3')"
   ]
  },
  {
   "cell_type": "markdown",
   "id": "ef045f49",
   "metadata": {},
   "source": [
    "Which we can write directly to a file"
   ]
  },
  {
   "cell_type": "code",
   "execution_count": 14,
   "id": "11c59034",
   "metadata": {},
   "outputs": [],
   "source": [
    "audio.write_to_file('data/pratchett.mp3')"
   ]
  },
  {
   "cell_type": "code",
   "execution_count": 15,
   "id": "74705c6b",
   "metadata": {},
   "outputs": [],
   "source": [
    "!open data/pratchett.mp3"
   ]
  },
  {
   "cell_type": "markdown",
   "id": "1e46cb7a",
   "metadata": {},
   "source": [
    "<center>\n",
    "     <img src=\"data/D4Sci_logo_full.png\" alt=\"Data For Science, Inc\" align=\"center\" border=\"0\" width=300px> \n",
    "</center>"
   ]
  }
 ],
 "metadata": {
  "kernelspec": {
   "display_name": "Python 3 (ipykernel)",
   "language": "python",
   "name": "python3"
  },
  "language_info": {
   "codemirror_mode": {
    "name": "ipython",
    "version": 3
   },
   "file_extension": ".py",
   "mimetype": "text/x-python",
   "name": "python",
   "nbconvert_exporter": "python",
   "pygments_lexer": "ipython3",
   "version": "3.11.7"
  },
  "varInspector": {
   "cols": {
    "lenName": 16,
    "lenType": 16,
    "lenVar": 40
   },
   "kernels_config": {
    "python": {
     "delete_cmd_postfix": "",
     "delete_cmd_prefix": "del ",
     "library": "var_list.py",
     "varRefreshCmd": "print(var_dic_list())"
    },
    "r": {
     "delete_cmd_postfix": ") ",
     "delete_cmd_prefix": "rm(",
     "library": "var_list.r",
     "varRefreshCmd": "cat(var_dic_list()) "
    }
   },
   "types_to_exclude": [
    "module",
    "function",
    "builtin_function_or_method",
    "instance",
    "_Feature"
   ],
   "window_display": false
  }
 },
 "nbformat": 4,
 "nbformat_minor": 5
}
